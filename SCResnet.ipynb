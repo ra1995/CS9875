{
 "cells": [
  {
   "cell_type": "code",
   "execution_count": 1,
   "metadata": {
    "id": "tjNfgZDNOdrw"
   },
   "outputs": [],
   "source": [
    "import torch\n",
    "import torchvision\n",
    "import torch.nn as nn\n",
    "import torchvision.transforms as transforms\n",
    "from torchvision.models import resnet18, resnet50\n",
    "from torchvision.datasets import VOCDetection, Caltech256\n",
    "from torch.utils.data import DataLoader\n",
    "from PIL import Image\n",
    "from tqdm import tqdm\n",
    "import xml.etree.ElementTree as ET\n",
    "import numpy as np\n",
    "from transformers import get_linear_schedule_with_warmup\n",
    "from torcheval.metrics.functional import multiclass_f1_score, multiclass_accuracy"
   ]
  },
  {
   "cell_type": "code",
   "execution_count": 2,
   "metadata": {},
   "outputs": [
    {
     "data": {
      "text/plain": [
       "<torch._C.Generator at 0x7f8dd9a17230>"
      ]
     },
     "execution_count": 2,
     "metadata": {},
     "output_type": "execute_result"
    }
   ],
   "source": [
    "torch.manual_seed(12345)"
   ]
  },
  {
   "cell_type": "code",
   "execution_count": 3,
   "metadata": {
    "id": "MK_LduJSOh7s"
   },
   "outputs": [],
   "source": [
    "def get_center_updated(target):\n",
    "    image_width= int(target['annotation']['size']['width'])\n",
    "    image_height= int(target['annotation']['size']['height'])\n",
    "    max_area_class = ''\n",
    "    max_area = 0\n",
    "    max_area_coordinates = None\n",
    "\n",
    "\n",
    "# Find the object with the largest bounding box area\n",
    "    for i in range(len(target['annotation']['object'])):\n",
    "        coord = target['annotation']['object'][i]['bndbox']\n",
    "        area = (int(coord['xmax']) - int(coord['xmin'])) * (int(coord['ymax']) - int(coord['ymin']))\n",
    "\n",
    "        if area > max_area:\n",
    "            max_area = area\n",
    "            max_area_class = target['annotation']['object'][i]['name']\n",
    "            max_area_coordinates = coord\n",
    "\n",
    "    if max_area_coordinates is not None:\n",
    "        # Calculate the size of the square (maximum of width and height of the bounding box)\n",
    "        square_size = max(int(max_area_coordinates['xmax']) - int(max_area_coordinates['xmin']),\n",
    "                          int(max_area_coordinates['ymax']) - int(max_area_coordinates['ymin']))\n",
    "\n",
    "        # Calculate the coordinates for the square centered on the bounding box\n",
    "        center_x = (int(max_area_coordinates['xmin']) + int(max_area_coordinates['xmax'])) // 2\n",
    "        center_y = (int(max_area_coordinates['ymin']) + int(max_area_coordinates['ymax'])) // 2\n",
    "        half_size = square_size // 2\n",
    "        new_xmin = max(0, center_x - half_size)\n",
    "        new_xmax = min(image_width, center_x + half_size)\n",
    "        new_ymin = max(0, center_y - half_size)\n",
    "        new_ymax = min(image_height, center_y + half_size)\n",
    "\n",
    "        # Return the coordinates of the largest square including the bounding box\n",
    "        square_coordinates = {\n",
    "            'xmin': str(new_xmin),\n",
    "            'ymin': str(new_ymin),\n",
    "            'xmax': str(new_xmax),\n",
    "            'ymax': str(new_ymax)\n",
    "        }\n",
    "        return square_coordinates, max_area_class\n",
    "\n",
    "    else:\n",
    "        return None"
   ]
  },
  {
   "cell_type": "code",
   "execution_count": 4,
   "metadata": {
    "id": "180Y7OarOh5t"
   },
   "outputs": [],
   "source": [
    "class ModifiedCaltech256Dataset(Caltech256):\n",
    "    def __init__(self, path='./data', download_flag=False, validation_flag=False):\n",
    "        super(ModifiedCaltech256Dataset, self).__init__(path, None, None, download_flag)\n",
    "        self.classes = []\n",
    "        self.labels = []\n",
    "        # self.means = torch.zeros((3, 1), dtype=torch.float32)\n",
    "        # self.vars = torch.zeros((3, 1), dtype=torch.float32)\n",
    "        self.means = torch.from_numpy(np.array([[0.5520],\n",
    "                                    [0.5336],\n",
    "                                    [0.5050]], dtype=np.float32))\n",
    "        self.means = torch.from_numpy(np.array([[0.1973],\n",
    "                                    [0.1930],\n",
    "                                    [0.2098]], dtype=np.float32))\n",
    "        if validation_flag:\n",
    "            self.transform_mod = transforms.Compose([\n",
    "                transforms.Resize((224, 224)),\n",
    "                # transforms.RandomResizedCrop((224, 224), scale=(0.8, 1.0), ratio=(0.8, 1.2)),\n",
    "                # transforms.RandomHorizontalFlip(),\n",
    "                # transforms.RandomRotation((-45., +45.)),\n",
    "                transforms.ToTensor()\n",
    "            ])\n",
    "        else:\n",
    "            self.transform_mod = transforms.Compose([\n",
    "                # transforms.Resize((256, 256)),\n",
    "                transforms.RandomResizedCrop((224, 224), scale=(0.8, 1.0), ratio=(0.8, 1.2)),\n",
    "                transforms.RandomHorizontalFlip(),\n",
    "                transforms.RandomRotation((0., 45.)),\n",
    "                transforms.ToTensor()\n",
    "            ])\n",
    "    \n",
    "    def __getitem__(self, index):\n",
    "        img, target = super(ModifiedCaltech256Dataset, self).__getitem__(index)\n",
    "        img_tensor = self.transform_mod(img)\n",
    "        if img_tensor.dim()==2:\n",
    "            img_tensor = img_tensor[None, ...].expand(3, -1, -1)\n",
    "        elif img_tensor.shape[0]==1:\n",
    "            img_tensor = img_tensor.expand(3, -1, -1)\n",
    "        self.labels.append(target)\n",
    "        img_tensor = transforms.Normalize(mean=[0.5520, 0.5336, 0.5050], std=[0.1973, 0.1930, 0.2098])(img_tensor)\n",
    "        # self.means += torch.mean(img_tensor.reshape(3, -1), dim=1, keepdim=True)/super(ModifiedCaltech256Dataset, self).__len__()\n",
    "        # self.vars += torch.pow(torch.mean(img_tensor.reshape(3, -1), dim=1, keepdim=True)-self.means, 2)/super(ModifiedCaltech256Dataset, self).__len__()\n",
    "        return img_tensor, target"
   ]
  },
  {
   "cell_type": "code",
   "execution_count": 5,
   "metadata": {},
   "outputs": [],
   "source": [
    "class ModifiedVOCDataset(VOCDetection):\n",
    "    def __getitem__(self, index):\n",
    "        img, target = super(ModifiedVOCDataset, self).__getitem__(index)\n",
    "\n",
    "        # Use your function to get the bounding box\n",
    "        square_coordinates, label = get_center_updated(target)\n",
    "\n",
    "        # If we get valid coordinates, crop the image\n",
    "        if square_coordinates:\n",
    "            img = img.crop((int(square_coordinates['xmin']), int(square_coordinates['ymin']),\n",
    "                            int(square_coordinates['xmax']), int(square_coordinates['ymax'])))\n",
    "\n",
    "        # Convert label to index (based on VOC class names)\n",
    "        classes = ('aeroplane', 'bicycle', 'bird', 'boat', 'bottle',\n",
    "                   'bus', 'car', 'cat', 'chair', 'cow', 'diningtable',\n",
    "                   'dog', 'horse', 'motorbike', 'person', 'pottedplant',\n",
    "                   'sheep', 'sofa', 'train', 'tvmonitor')\n",
    "        label_idx = classes.index(label)\n",
    "\n",
    "        # Apply transforms\n",
    "        transform = transforms.Compose([\n",
    "            transforms.Resize((256, 256)),\n",
    "            transforms.RandomResizedCrop((224, 224), scale=(0.8, 1.0), ratio=(0.8, 1.2)),\n",
    "            transforms.RandomHorizontalFlip(),\n",
    "            transforms.RandomRotation((-45., +45.)),\n",
    "            transforms.ToTensor(),\n",
    "            transforms.Normalize(mean=[0.485, 0.456, 0.406], std=[0.229, 0.224, 0.225])\n",
    "        ])\n",
    "\n",
    "        return transform(img), label_idx"
   ]
  },
  {
   "cell_type": "code",
   "execution_count": 6,
   "metadata": {
    "id": "Pc-ekrMaOh2r"
   },
   "outputs": [],
   "source": [
    "device = torch.device(\"cuda:0\" if torch.cuda.is_available() else \"cpu\")"
   ]
  },
  {
   "cell_type": "code",
   "execution_count": 7,
   "metadata": {
    "colab": {
     "base_uri": "https://localhost:8080/"
    },
    "id": "x7mstLztOh0F",
    "outputId": "dd4bb739-8205-479d-d387-ca923fcbade3"
   },
   "outputs": [
    {
     "name": "stdout",
     "output_type": "stream",
     "text": [
      "Files already downloaded and verified\n"
     ]
    }
   ],
   "source": [
    "# Download and prepare the dataset\n",
    "dataset = ModifiedCaltech256Dataset('./data', True)\n",
    "# dataset = ModifiedVOCDataset(root='./data', year='2012', image_set='trainval', download=True)\n",
    "# Split the dataset into training and validation sets\n",
    "train_size = int(0.8 * len(dataset))\n",
    "val_size = int(0.2 * len(dataset))\n",
    "test_size = len(dataset) - train_size - val_size\n",
    "train_dataset, val_dataset, test_dataset = torch.utils.data.random_split(dataset, [train_size, val_size, test_size])\n",
    "train_loader = DataLoader(train_dataset, batch_size=128, shuffle=True, drop_last=False, num_workers=8)\n",
    "val_loader = DataLoader(val_dataset, batch_size=128, shuffle=False, num_workers=8)\n",
    "test_loader = DataLoader(test_dataset, batch_size=128, shuffle=False, num_workers=8)"
   ]
  },
  {
   "cell_type": "code",
   "execution_count": 8,
   "metadata": {
    "id": "KJwD40rF9zGh"
   },
   "outputs": [
    {
     "name": "stderr",
     "output_type": "stream",
     "text": [
      "/home/ragraw06/UBCO/rishabh/AI_conda/lib/python3.11/site-packages/torchvision/models/_utils.py:208: UserWarning: The parameter 'pretrained' is deprecated since 0.13 and may be removed in the future, please use 'weights' instead.\n",
      "  warnings.warn(\n",
      "/home/ragraw06/UBCO/rishabh/AI_conda/lib/python3.11/site-packages/torchvision/models/_utils.py:223: UserWarning: Arguments other than a weight enum or `None` for 'weights' are deprecated since 0.13 and may be removed in the future. The current behavior is equivalent to passing `weights=None`.\n",
      "  warnings.warn(msg)\n"
     ]
    }
   ],
   "source": [
    "# Model setup\n",
    "model = resnet50(pretrained=False)\n",
    "num_ftrs = model.fc.in_features\n",
    "model.fc = torch.nn.Linear(num_ftrs, 257)  # 20 classes in Pascal VOC\n",
    "model.to(device)\n",
    "model.train()\n",
    "\n",
    "for param in model.parameters():\n",
    "    if param.requires_grad and param.dim()>1:\n",
    "        nn.init.xavier_normal_(param)"
   ]
  },
  {
   "cell_type": "code",
   "execution_count": 9,
   "metadata": {},
   "outputs": [],
   "source": [
    "def save_model(model, optimizer, lr_scheduler, epoch, model_path):\n",
    "    try:\n",
    "        torch.save({'epoch':epoch,\n",
    "                    # 'config':vars(config),\n",
    "                    'state_dict':model.state_dict(),\n",
    "                    'optimizer':optimizer.state_dict(),\n",
    "                    'scheduler':lr_scheduler.state_dict()}, model_path)\n",
    "    except Exception as err:\n",
    "        print(f\"Unexpected {err=}, {type(err)=}\")\n",
    "        return False\n",
    "    return True\n",
    "\n",
    "def load_model(model, optimizer, lr_scheduler, model_path):\n",
    "    check_point = torch.load(model_path)\n",
    "    epoch = check_point['epoch']\n",
    "    # print(check_point['config'])\n",
    "    config = Namespace(**check_point['config'])\n",
    "    model.load_state_dict(check_point['state_dict'])\n",
    "    optimizer.load_state_dict(check_point['optimizer'])\n",
    "    lr_scheduler.load_state_dict(check_point['scheduler'])\n",
    "    return model, optimizer, lr_scheduler, epoch"
   ]
  },
  {
   "cell_type": "code",
   "execution_count": 10,
   "metadata": {},
   "outputs": [
    {
     "name": "stderr",
     "output_type": "stream",
     "text": [
      "100%|█████████████████████████████████████████████████████████████████████████████████| 192/192 [00:15<00:00, 12.29it/s]"
     ]
    },
    {
     "name": "stdout",
     "output_type": "stream",
     "text": [
      "(24485,)\n"
     ]
    },
    {
     "name": "stderr",
     "output_type": "stream",
     "text": [
      "\n"
     ]
    }
   ],
   "source": [
    "all_labels = []\n",
    "for i, (images, labels) in enumerate(tqdm(train_loader)):\n",
    "    all_labels.append(labels)\n",
    "all_labels = torch.cat(all_labels, dim=0).numpy()\n",
    "print(all_labels.shape)\n",
    "uniques, counts = np.unique(all_labels, return_counts=True)"
   ]
  },
  {
   "cell_type": "code",
   "execution_count": 11,
   "metadata": {},
   "outputs": [],
   "source": [
    "# %matplotlib inline\n",
    "# import matplotlib.pyplot as plt\n",
    "# plt.hist(all_labels, bins=np.arange(len(uniques)+1))\n",
    "# plt.show()"
   ]
  },
  {
   "cell_type": "code",
   "execution_count": 12,
   "metadata": {},
   "outputs": [
    {
     "name": "stdout",
     "output_type": "stream",
     "text": [
      "tensor([1.2060, 1.1762, 0.7939, 0.9924, 0.8583, 1.4220, 1.0826, 0.5068, 1.1479,\n",
      "        1.3610, 0.4272, 0.5293, 1.1078, 1.3419, 0.9722, 1.2703, 1.1762, 1.1209,\n",
      "        0.9722, 1.3610, 0.8822, 1.3419, 1.1078, 1.0244, 1.0135, 1.1342, 1.2214,\n",
      "        1.0244, 1.2214, 1.1479, 1.2536, 1.1078, 1.1479, 1.2214, 1.4886, 1.1479,\n",
      "        0.9822, 1.1479, 1.4657, 0.8741, 1.5367, 1.2536, 0.9722, 0.9822, 1.3419,\n",
      "        0.9433, 1.3232, 1.2214, 0.9822, 1.1479, 1.0826, 1.3808, 1.4435, 1.0356,\n",
      "        1.2373, 1.1909, 1.1078, 1.2536, 1.3419, 1.4011, 1.2373, 1.3610, 1.0135,\n",
      "        0.8822, 1.1619, 1.3610, 1.4011, 1.0469, 1.0951, 1.3419, 1.2214, 1.0586,\n",
      "        1.2703, 1.0586, 1.5123, 1.3808, 1.4220, 1.4220, 1.2060, 1.0244, 1.1619,\n",
      "        1.4657, 1.3808, 1.4220, 1.0826, 1.5367, 1.2060, 1.1619, 1.0951, 0.5571,\n",
      "        1.2214, 0.5992, 1.0826, 1.2060, 1.2875, 0.4054, 1.3419, 1.1619, 1.4011,\n",
      "        1.2536, 0.8661, 1.4435, 0.9924, 1.2373, 0.4390, 1.3610, 1.5879, 1.3808,\n",
      "        0.7939, 1.3232, 1.4220, 1.4886, 1.0135, 0.9527, 1.2703, 1.1078, 0.9623,\n",
      "        1.0356, 1.2875, 0.8741, 1.3808, 1.1479, 1.0586, 1.2703, 1.2536, 0.4962,\n",
      "        0.9527, 1.1078, 0.6187, 1.2703, 1.2875, 0.6616, 0.9161, 1.0135, 1.3232,\n",
      "        1.4220, 0.7683, 0.5992, 1.4657, 1.2703, 0.9722, 1.1342, 0.9161, 1.3610,\n",
      "        0.1498, 1.5123, 0.5809, 0.6757, 1.1619, 1.0135, 1.1209, 1.0135, 1.2875,\n",
      "        1.2060, 1.3232, 1.2536, 1.3232, 0.7683, 0.5881, 1.4011, 1.1619, 1.4011,\n",
      "        1.3232, 1.2703, 1.5618, 1.2875, 1.3051, 0.8506, 1.2373, 1.1078, 1.5618,\n",
      "        1.2214, 1.1078, 1.4435, 1.4657, 1.0826, 1.2373, 1.4657, 1.4657, 1.2373,\n",
      "        1.2536, 1.0469, 1.1762, 1.3808, 1.1342, 1.5123, 1.4011, 1.2536, 0.9623,\n",
      "        1.0356, 1.0469, 1.0135, 0.6662, 1.0951, 1.3232, 1.0705, 1.2060, 1.1209,\n",
      "        1.0951, 1.1762, 1.5123, 1.3051, 1.3051, 1.4886, 1.4886, 1.1479, 0.9924,\n",
      "        1.1479, 1.1342, 1.0826, 1.2060, 0.9250, 1.2060, 0.8583, 1.4657, 1.3232,\n",
      "        1.2060, 1.5123, 1.4886, 1.2875, 1.0951, 1.3051, 1.5879, 1.0469, 1.3051,\n",
      "        1.1762, 0.8431, 1.2536, 1.2060, 1.3419, 1.0951, 0.3355, 1.1209, 1.0244,\n",
      "        0.9822, 1.3051, 1.3610, 1.1909, 1.3808, 0.5705, 1.2373, 1.2214, 1.3051,\n",
      "        1.2373, 1.3610, 1.1342, 1.2373, 1.3808, 1.2373, 1.2373, 0.1455, 1.0826,\n",
      "        0.2730, 1.2060, 1.1909, 1.0951, 0.1431], device='cuda:0')\n"
     ]
    }
   ],
   "source": [
    "weights = np.zeros((len(uniques)), dtype=np.float32)\n",
    "uniques, counts = np.unique(all_labels, return_counts=True)\n",
    "weights[uniques] += counts\n",
    "weights = np.sum(counts)/(len(uniques)*weights)\n",
    "weights = torch.from_numpy(weights).to(device)\n",
    "print(weights)"
   ]
  },
  {
   "cell_type": "code",
   "execution_count": 13,
   "metadata": {},
   "outputs": [
    {
     "name": "stdout",
     "output_type": "stream",
     "text": [
      "19200\n"
     ]
    }
   ],
   "source": [
    "num_epochs = 100\n",
    "warmup_frac = 0.2\n",
    "total_iterations = num_epochs * len(train_loader)\n",
    "print(total_iterations)"
   ]
  },
  {
   "cell_type": "code",
   "execution_count": 14,
   "metadata": {
    "id": "cP32smiROsIF",
    "scrolled": true
   },
   "outputs": [
    {
     "name": "stderr",
     "output_type": "stream",
     "text": [
      "100%|█████████████████████████████████████████████████████████████████████████████████| 192/192 [00:55<00:00,  3.44it/s]\n",
      "100%|███████████████████████████████████████████████████████████████████████████████████| 48/48 [00:05<00:00,  8.18it/s]\n"
     ]
    },
    {
     "name": "stdout",
     "output_type": "stream",
     "text": [
      "Saving Model ./sc_resnet50_voc2012.pth ...\n",
      "Epoch [1/100], Train Accuracy: 0.65%, Validation Accuracy: 1.11% \n",
      "Loss Train: 5.868919104337692 | Val: 5.458239843448003\n"
     ]
    },
    {
     "name": "stderr",
     "output_type": "stream",
     "text": [
      "100%|█████████████████████████████████████████████████████████████████████████████████| 192/192 [00:54<00:00,  3.54it/s]\n",
      "100%|███████████████████████████████████████████████████████████████████████████████████| 48/48 [00:05<00:00,  8.04it/s]\n"
     ]
    },
    {
     "name": "stdout",
     "output_type": "stream",
     "text": [
      "Saving Model ./sc_resnet50_voc2012.pth ...\n",
      "Epoch [2/100], Train Accuracy: 3.09%, Validation Accuracy: 4.62% \n",
      "Loss Train: 5.270129981140296 | Val: 5.298472175995509\n"
     ]
    },
    {
     "name": "stderr",
     "output_type": "stream",
     "text": [
      "100%|█████████████████████████████████████████████████████████████████████████████████| 192/192 [00:54<00:00,  3.53it/s]\n",
      "100%|███████████████████████████████████████████████████████████████████████████████████| 48/48 [00:05<00:00,  8.18it/s]\n"
     ]
    },
    {
     "name": "stdout",
     "output_type": "stream",
     "text": [
      "Saving Model ./sc_resnet50_voc2012.pth ...\n",
      "Epoch [3/100], Train Accuracy: 5.91%, Validation Accuracy: 6.24% \n",
      "Loss Train: 5.026597715914249 | Val: 4.992540280024211\n"
     ]
    },
    {
     "name": "stderr",
     "output_type": "stream",
     "text": [
      "100%|█████████████████████████████████████████████████████████████████████████████████| 192/192 [00:54<00:00,  3.54it/s]\n",
      "100%|███████████████████████████████████████████████████████████████████████████████████| 48/48 [00:05<00:00,  8.10it/s]\n"
     ]
    },
    {
     "name": "stdout",
     "output_type": "stream",
     "text": [
      "Saving Model ./sc_resnet50_voc2012.pth ...\n",
      "Epoch [4/100], Train Accuracy: 10.67%, Validation Accuracy: 13.41% \n",
      "Loss Train: 4.667708670099576 | Val: 4.538708756367366\n"
     ]
    },
    {
     "name": "stderr",
     "output_type": "stream",
     "text": [
      "100%|█████████████████████████████████████████████████████████████████████████████████| 192/192 [00:54<00:00,  3.55it/s]\n",
      "100%|███████████████████████████████████████████████████████████████████████████████████| 48/48 [00:05<00:00,  8.03it/s]\n"
     ]
    },
    {
     "name": "stdout",
     "output_type": "stream",
     "text": [
      "Saving Model ./sc_resnet50_voc2012.pth ...\n",
      "Epoch [5/100], Train Accuracy: 16.04%, Validation Accuracy: 15.68% \n",
      "Loss Train: 4.255591823409001 | Val: 4.298673614859581\n"
     ]
    },
    {
     "name": "stderr",
     "output_type": "stream",
     "text": [
      "100%|█████████████████████████████████████████████████████████████████████████████████| 192/192 [00:54<00:00,  3.53it/s]\n",
      "100%|███████████████████████████████████████████████████████████████████████████████████| 48/48 [00:06<00:00,  7.92it/s]\n"
     ]
    },
    {
     "name": "stdout",
     "output_type": "stream",
     "text": [
      "Saving Model ./sc_resnet50_voc2012.pth ...\n",
      "Epoch [6/100], Train Accuracy: 20.57%, Validation Accuracy: 19.60% \n",
      "Loss Train: 3.9503151439130306 | Val: 4.097012167175611\n"
     ]
    },
    {
     "name": "stderr",
     "output_type": "stream",
     "text": [
      "100%|█████████████████████████████████████████████████████████████████████████████████| 192/192 [00:54<00:00,  3.53it/s]\n",
      "100%|███████████████████████████████████████████████████████████████████████████████████| 48/48 [00:05<00:00,  8.07it/s]\n"
     ]
    },
    {
     "name": "stdout",
     "output_type": "stream",
     "text": [
      "Saving Model ./sc_resnet50_voc2012.pth ...\n",
      "Epoch [7/100], Train Accuracy: 24.33%, Validation Accuracy: 22.74% \n",
      "Loss Train: 3.661221238474051 | Val: 3.8533687939246497\n"
     ]
    },
    {
     "name": "stderr",
     "output_type": "stream",
     "text": [
      "100%|█████████████████████████████████████████████████████████████████████████████████| 192/192 [01:37<00:00,  1.97it/s]\n",
      "100%|███████████████████████████████████████████████████████████████████████████████████| 48/48 [00:10<00:00,  4.78it/s]\n"
     ]
    },
    {
     "name": "stdout",
     "output_type": "stream",
     "text": [
      "Saving Model ./sc_resnet50_voc2012.pth ...\n",
      "Epoch [8/100], Train Accuracy: 27.68%, Validation Accuracy: 26.66% \n",
      "Loss Train: 3.4351820846398673 | Val: 3.7288311272859573\n"
     ]
    },
    {
     "name": "stderr",
     "output_type": "stream",
     "text": [
      "100%|█████████████████████████████████████████████████████████████████████████████████| 192/192 [01:43<00:00,  1.86it/s]\n",
      "100%|███████████████████████████████████████████████████████████████████████████████████| 48/48 [00:10<00:00,  4.77it/s]\n"
     ]
    },
    {
     "name": "stdout",
     "output_type": "stream",
     "text": [
      "Epoch [9/100], Train Accuracy: 31.13%, Validation Accuracy: 23.74% \n",
      "Loss Train: 3.2349247646828494 | Val: 3.9629933883746467\n"
     ]
    },
    {
     "name": "stderr",
     "output_type": "stream",
     "text": [
      "100%|█████████████████████████████████████████████████████████████████████████████████| 192/192 [01:43<00:00,  1.86it/s]\n",
      "100%|███████████████████████████████████████████████████████████████████████████████████| 48/48 [00:10<00:00,  4.78it/s]\n"
     ]
    },
    {
     "name": "stdout",
     "output_type": "stream",
     "text": [
      "Saving Model ./sc_resnet50_voc2012.pth ...\n",
      "Epoch [10/100], Train Accuracy: 33.24%, Validation Accuracy: 29.31% \n",
      "Loss Train: 3.0844532338281474 | Val: 3.4709923615058265\n"
     ]
    },
    {
     "name": "stderr",
     "output_type": "stream",
     "text": [
      "100%|█████████████████████████████████████████████████████████████████████████████████| 192/192 [01:42<00:00,  1.87it/s]\n",
      "100%|███████████████████████████████████████████████████████████████████████████████████| 48/48 [00:10<00:00,  4.78it/s]\n"
     ]
    },
    {
     "name": "stdout",
     "output_type": "stream",
     "text": [
      "Epoch [11/100], Train Accuracy: 36.46%, Validation Accuracy: 26.81% \n",
      "Loss Train: 2.8967484099169574 | Val: 3.662708858648936\n"
     ]
    },
    {
     "name": "stderr",
     "output_type": "stream",
     "text": [
      "100%|█████████████████████████████████████████████████████████████████████████████████| 192/192 [01:43<00:00,  1.86it/s]\n",
      "100%|███████████████████████████████████████████████████████████████████████████████████| 48/48 [00:10<00:00,  4.76it/s]\n"
     ]
    },
    {
     "name": "stdout",
     "output_type": "stream",
     "text": [
      "Saving Model ./sc_resnet50_voc2012.pth ...\n",
      "Epoch [12/100], Train Accuracy: 39.07%, Validation Accuracy: 32.71% \n",
      "Loss Train: 2.7502501184741655 | Val: 3.208458438515663\n"
     ]
    },
    {
     "name": "stderr",
     "output_type": "stream",
     "text": [
      "100%|█████████████████████████████████████████████████████████████████████████████████| 192/192 [01:42<00:00,  1.87it/s]\n",
      "100%|███████████████████████████████████████████████████████████████████████████████████| 48/48 [00:10<00:00,  4.78it/s]\n"
     ]
    },
    {
     "name": "stdout",
     "output_type": "stream",
     "text": [
      "Saving Model ./sc_resnet50_voc2012.pth ...\n",
      "Epoch [13/100], Train Accuracy: 41.11%, Validation Accuracy: 33.38% \n",
      "Loss Train: 2.62347994496425 | Val: 3.2298994809389114\n"
     ]
    },
    {
     "name": "stderr",
     "output_type": "stream",
     "text": [
      "100%|█████████████████████████████████████████████████████████████████████████████████| 192/192 [01:43<00:00,  1.86it/s]\n",
      "100%|███████████████████████████████████████████████████████████████████████████████████| 48/48 [00:10<00:00,  4.77it/s]\n"
     ]
    },
    {
     "name": "stdout",
     "output_type": "stream",
     "text": [
      "Saving Model ./sc_resnet50_voc2012.pth ...\n",
      "Epoch [14/100], Train Accuracy: 43.62%, Validation Accuracy: 34.26% \n",
      "Loss Train: 2.459920265401403 | Val: 3.1348612556854882\n"
     ]
    },
    {
     "name": "stderr",
     "output_type": "stream",
     "text": [
      "100%|█████████████████████████████████████████████████████████████████████████████████| 192/192 [01:42<00:00,  1.87it/s]\n",
      "100%|███████████████████████████████████████████████████████████████████████████████████| 48/48 [00:09<00:00,  4.81it/s]\n"
     ]
    },
    {
     "name": "stdout",
     "output_type": "stream",
     "text": [
      "Epoch [15/100], Train Accuracy: 45.82%, Validation Accuracy: 27.77% \n",
      "Loss Train: 2.3415889696528516 | Val: 3.801361749569575\n"
     ]
    },
    {
     "name": "stderr",
     "output_type": "stream",
     "text": [
      "100%|█████████████████████████████████████████████████████████████████████████████████| 192/192 [01:43<00:00,  1.86it/s]\n",
      "100%|███████████████████████████████████████████████████████████████████████████████████| 48/48 [00:09<00:00,  4.80it/s]\n"
     ]
    },
    {
     "name": "stdout",
     "output_type": "stream",
     "text": [
      "Saving Model ./sc_resnet50_voc2012.pth ...\n",
      "Epoch [16/100], Train Accuracy: 48.54%, Validation Accuracy: 35.40% \n",
      "Loss Train: 2.2008518955359855 | Val: 3.1932369023561478\n"
     ]
    },
    {
     "name": "stderr",
     "output_type": "stream",
     "text": [
      "100%|█████████████████████████████████████████████████████████████████████████████████| 192/192 [01:43<00:00,  1.86it/s]\n",
      "100%|███████████████████████████████████████████████████████████████████████████████████| 48/48 [00:10<00:00,  4.78it/s]\n"
     ]
    },
    {
     "name": "stdout",
     "output_type": "stream",
     "text": [
      "Saving Model ./sc_resnet50_voc2012.pth ...\n",
      "Epoch [17/100], Train Accuracy: 50.37%, Validation Accuracy: 35.52% \n",
      "Loss Train: 2.094660837824146 | Val: 3.2795788993438086\n"
     ]
    },
    {
     "name": "stderr",
     "output_type": "stream",
     "text": [
      "100%|█████████████████████████████████████████████████████████████████████████████████| 192/192 [01:43<00:00,  1.86it/s]\n",
      "100%|███████████████████████████████████████████████████████████████████████████████████| 48/48 [00:10<00:00,  4.80it/s]\n"
     ]
    },
    {
     "name": "stdout",
     "output_type": "stream",
     "text": [
      "Saving Model ./sc_resnet50_voc2012.pth ...\n",
      "Epoch [18/100], Train Accuracy: 53.03%, Validation Accuracy: 43.28% \n",
      "Loss Train: 1.954913189013799 | Val: 2.723682632048925\n"
     ]
    },
    {
     "name": "stderr",
     "output_type": "stream",
     "text": [
      "100%|█████████████████████████████████████████████████████████████████████████████████| 192/192 [01:42<00:00,  1.87it/s]\n",
      "100%|███████████████████████████████████████████████████████████████████████████████████| 48/48 [00:10<00:00,  4.78it/s]\n"
     ]
    },
    {
     "name": "stdout",
     "output_type": "stream",
     "text": [
      "Epoch [19/100], Train Accuracy: 54.78%, Validation Accuracy: 41.20% \n",
      "Loss Train: 1.852274525910616 | Val: 2.839301844437917\n"
     ]
    },
    {
     "name": "stderr",
     "output_type": "stream",
     "text": [
      "100%|█████████████████████████████████████████████████████████████████████████████████| 192/192 [01:42<00:00,  1.87it/s]\n",
      "100%|███████████████████████████████████████████████████████████████████████████████████| 48/48 [00:10<00:00,  4.79it/s]\n"
     ]
    },
    {
     "name": "stdout",
     "output_type": "stream",
     "text": [
      "Epoch [20/100], Train Accuracy: 56.74%, Validation Accuracy: 39.85% \n",
      "Loss Train: 1.7466874613116186 | Val: 3.0015831142663956\n"
     ]
    },
    {
     "name": "stderr",
     "output_type": "stream",
     "text": [
      "100%|█████████████████████████████████████████████████████████████████████████████████| 192/192 [01:42<00:00,  1.87it/s]\n",
      "100%|███████████████████████████████████████████████████████████████████████████████████| 48/48 [00:10<00:00,  4.75it/s]\n"
     ]
    },
    {
     "name": "stdout",
     "output_type": "stream",
     "text": [
      "Saving Model ./sc_resnet50_voc2012.pth ...\n",
      "Epoch [21/100], Train Accuracy: 59.04%, Validation Accuracy: 44.45% \n",
      "Loss Train: 1.6222446498771508 | Val: 2.6522837430238724\n"
     ]
    },
    {
     "name": "stderr",
     "output_type": "stream",
     "text": [
      "100%|█████████████████████████████████████████████████████████████████████████████████| 192/192 [01:43<00:00,  1.86it/s]\n",
      "100%|███████████████████████████████████████████████████████████████████████████████████| 48/48 [00:10<00:00,  4.76it/s]\n"
     ]
    },
    {
     "name": "stdout",
     "output_type": "stream",
     "text": [
      "Saving Model ./sc_resnet50_voc2012.pth ...\n",
      "Epoch [22/100], Train Accuracy: 61.07%, Validation Accuracy: 45.58% \n",
      "Loss Train: 1.5119689106941223 | Val: 2.732460548480352\n"
     ]
    },
    {
     "name": "stderr",
     "output_type": "stream",
     "text": [
      "100%|█████████████████████████████████████████████████████████████████████████████████| 192/192 [01:43<00:00,  1.86it/s]\n",
      "100%|███████████████████████████████████████████████████████████████████████████████████| 48/48 [00:10<00:00,  4.79it/s]\n"
     ]
    },
    {
     "name": "stdout",
     "output_type": "stream",
     "text": [
      "Saving Model ./sc_resnet50_voc2012.pth ...\n",
      "Epoch [23/100], Train Accuracy: 65.25%, Validation Accuracy: 46.95% \n",
      "Loss Train: 1.3274504629274209 | Val: 2.596854311724504\n"
     ]
    },
    {
     "name": "stderr",
     "output_type": "stream",
     "text": [
      "100%|█████████████████████████████████████████████████████████████████████████████████| 192/192 [01:43<00:00,  1.86it/s]\n",
      "100%|███████████████████████████████████████████████████████████████████████████████████| 48/48 [00:10<00:00,  4.78it/s]\n"
     ]
    },
    {
     "name": "stdout",
     "output_type": "stream",
     "text": [
      "Saving Model ./sc_resnet50_voc2012.pth ...\n",
      "Epoch [24/100], Train Accuracy: 67.31%, Validation Accuracy: 49.27% \n",
      "Loss Train: 1.2226630160585046 | Val: 2.50013425697883\n"
     ]
    },
    {
     "name": "stderr",
     "output_type": "stream",
     "text": [
      "100%|█████████████████████████████████████████████████████████████████████████████████| 192/192 [01:43<00:00,  1.85it/s]\n",
      "100%|███████████████████████████████████████████████████████████████████████████████████| 48/48 [00:10<00:00,  4.74it/s]\n"
     ]
    },
    {
     "name": "stdout",
     "output_type": "stream",
     "text": [
      "Saving Model ./sc_resnet50_voc2012.pth ...\n",
      "Epoch [25/100], Train Accuracy: 70.05%, Validation Accuracy: 49.75% \n",
      "Loss Train: 1.0860202051699162 | Val: 2.4866062055031457\n"
     ]
    },
    {
     "name": "stderr",
     "output_type": "stream",
     "text": [
      "100%|█████████████████████████████████████████████████████████████████████████████████| 192/192 [01:43<00:00,  1.85it/s]\n",
      "100%|███████████████████████████████████████████████████████████████████████████████████| 48/48 [00:09<00:00,  4.80it/s]\n"
     ]
    },
    {
     "name": "stdout",
     "output_type": "stream",
     "text": [
      "Epoch [26/100], Train Accuracy: 72.34%, Validation Accuracy: 48.36% \n",
      "Loss Train: 0.9905041673531135 | Val: 2.634403253595034\n"
     ]
    },
    {
     "name": "stderr",
     "output_type": "stream",
     "text": [
      "100%|█████████████████████████████████████████████████████████████████████████████████| 192/192 [01:42<00:00,  1.86it/s]\n",
      "100%|███████████████████████████████████████████████████████████████████████████████████| 48/48 [00:10<00:00,  4.76it/s]\n"
     ]
    },
    {
     "name": "stdout",
     "output_type": "stream",
     "text": [
      "Saving Model ./sc_resnet50_voc2012.pth ...\n",
      "Epoch [27/100], Train Accuracy: 74.54%, Validation Accuracy: 50.78% \n",
      "Loss Train: 0.8801302943999568 | Val: 2.545688644051552\n"
     ]
    },
    {
     "name": "stderr",
     "output_type": "stream",
     "text": [
      "100%|█████████████████████████████████████████████████████████████████████████████████| 192/192 [01:43<00:00,  1.85it/s]\n",
      "100%|███████████████████████████████████████████████████████████████████████████████████| 48/48 [00:10<00:00,  4.71it/s]\n"
     ]
    },
    {
     "name": "stdout",
     "output_type": "stream",
     "text": [
      "Saving Model ./sc_resnet50_voc2012.pth ...\n",
      "Epoch [28/100], Train Accuracy: 77.36%, Validation Accuracy: 51.18% \n",
      "Loss Train: 0.7611645207119485 | Val: 2.5154841269056\n"
     ]
    },
    {
     "name": "stderr",
     "output_type": "stream",
     "text": [
      "100%|█████████████████████████████████████████████████████████████████████████████████| 192/192 [01:43<00:00,  1.86it/s]\n",
      "100%|███████████████████████████████████████████████████████████████████████████████████| 48/48 [00:10<00:00,  4.74it/s]\n"
     ]
    },
    {
     "name": "stdout",
     "output_type": "stream",
     "text": [
      "Saving Model ./sc_resnet50_voc2012.pth ...\n",
      "Epoch [29/100], Train Accuracy: 79.88%, Validation Accuracy: 51.20% \n",
      "Loss Train: 0.6625170536960164 | Val: 2.559703220923742\n"
     ]
    },
    {
     "name": "stderr",
     "output_type": "stream",
     "text": [
      "100%|█████████████████████████████████████████████████████████████████████████████████| 192/192 [01:43<00:00,  1.85it/s]\n",
      "100%|███████████████████████████████████████████████████████████████████████████████████| 48/48 [00:10<00:00,  4.67it/s]\n"
     ]
    },
    {
     "name": "stdout",
     "output_type": "stream",
     "text": [
      "Saving Model ./sc_resnet50_voc2012.pth ...\n",
      "Epoch [30/100], Train Accuracy: 81.84%, Validation Accuracy: 51.82% \n",
      "Loss Train: 0.5891162838476399 | Val: 2.622109937171141\n"
     ]
    },
    {
     "name": "stderr",
     "output_type": "stream",
     "text": [
      "100%|█████████████████████████████████████████████████████████████████████████████████| 192/192 [01:43<00:00,  1.86it/s]\n",
      "100%|███████████████████████████████████████████████████████████████████████████████████| 48/48 [00:10<00:00,  4.74it/s]\n"
     ]
    },
    {
     "name": "stdout",
     "output_type": "stream",
     "text": [
      "Saving Model ./sc_resnet50_voc2012.pth ...\n",
      "Epoch [31/100], Train Accuracy: 83.42%, Validation Accuracy: 53.19% \n",
      "Loss Train: 0.5317926914431155 | Val: 2.592626283566157\n"
     ]
    },
    {
     "name": "stderr",
     "output_type": "stream",
     "text": [
      "100%|█████████████████████████████████████████████████████████████████████████████████| 192/192 [01:43<00:00,  1.85it/s]\n",
      "100%|███████████████████████████████████████████████████████████████████████████████████| 48/48 [00:10<00:00,  4.73it/s]\n"
     ]
    },
    {
     "name": "stdout",
     "output_type": "stream",
     "text": [
      "Epoch [32/100], Train Accuracy: 85.15%, Validation Accuracy: 52.49% \n",
      "Loss Train: 0.4763370754662901 | Val: 2.598405440648397\n"
     ]
    },
    {
     "name": "stderr",
     "output_type": "stream",
     "text": [
      "100%|█████████████████████████████████████████████████████████████████████████████████| 192/192 [01:43<00:00,  1.85it/s]\n",
      "100%|███████████████████████████████████████████████████████████████████████████████████| 48/48 [00:10<00:00,  4.65it/s]\n"
     ]
    },
    {
     "name": "stdout",
     "output_type": "stream",
     "text": [
      "Epoch [33/100], Train Accuracy: 86.36%, Validation Accuracy: 52.65% \n",
      "Loss Train: 0.4174872019793838 | Val: 2.7345693707466125\n"
     ]
    },
    {
     "name": "stderr",
     "output_type": "stream",
     "text": [
      "100%|█████████████████████████████████████████████████████████████████████████████████| 192/192 [01:43<00:00,  1.85it/s]\n",
      "100%|███████████████████████████████████████████████████████████████████████████████████| 48/48 [00:10<00:00,  4.71it/s]\n"
     ]
    },
    {
     "name": "stdout",
     "output_type": "stream",
     "text": [
      "Saving Model ./sc_resnet50_voc2012.pth ...\n",
      "Epoch [34/100], Train Accuracy: 87.70%, Validation Accuracy: 54.11% \n",
      "Loss Train: 0.37230499166374403 | Val: 2.712195406357447\n"
     ]
    },
    {
     "name": "stderr",
     "output_type": "stream",
     "text": [
      "100%|█████████████████████████████████████████████████████████████████████████████████| 192/192 [01:43<00:00,  1.85it/s]\n",
      "100%|███████████████████████████████████████████████████████████████████████████████████| 48/48 [00:10<00:00,  4.68it/s]\n"
     ]
    },
    {
     "name": "stdout",
     "output_type": "stream",
     "text": [
      "Epoch [35/100], Train Accuracy: 89.46%, Validation Accuracy: 53.81% \n",
      "Loss Train: 0.31399202121732134 | Val: 2.7326890329519906\n"
     ]
    },
    {
     "name": "stderr",
     "output_type": "stream",
     "text": [
      "100%|█████████████████████████████████████████████████████████████████████████████████| 192/192 [01:43<00:00,  1.86it/s]\n",
      "100%|███████████████████████████████████████████████████████████████████████████████████| 48/48 [00:10<00:00,  4.72it/s]\n"
     ]
    },
    {
     "name": "stdout",
     "output_type": "stream",
     "text": [
      "Saving Model ./sc_resnet50_voc2012.pth ...\n",
      "Epoch [36/100], Train Accuracy: 90.43%, Validation Accuracy: 54.97% \n",
      "Loss Train: 0.283707623098356 | Val: 2.7634943996866546\n"
     ]
    },
    {
     "name": "stderr",
     "output_type": "stream",
     "text": [
      "100%|█████████████████████████████████████████████████████████████████████████████████| 192/192 [01:43<00:00,  1.86it/s]\n",
      "100%|███████████████████████████████████████████████████████████████████████████████████| 48/48 [00:10<00:00,  4.77it/s]\n"
     ]
    },
    {
     "name": "stdout",
     "output_type": "stream",
     "text": [
      "Saving Model ./sc_resnet50_voc2012.pth ...\n",
      "Epoch [37/100], Train Accuracy: 91.06%, Validation Accuracy: 56.12% \n",
      "Loss Train: 0.2643597030546516 | Val: 2.6577183504899344\n"
     ]
    },
    {
     "name": "stderr",
     "output_type": "stream",
     "text": [
      "100%|█████████████████████████████████████████████████████████████████████████████████| 192/192 [01:43<00:00,  1.85it/s]\n",
      "100%|███████████████████████████████████████████████████████████████████████████████████| 48/48 [00:10<00:00,  4.72it/s]\n"
     ]
    },
    {
     "name": "stdout",
     "output_type": "stream",
     "text": [
      "Epoch [38/100], Train Accuracy: 92.22%, Validation Accuracy: 54.93% \n",
      "Loss Train: 0.2283116689262291 | Val: 2.8769566814104715\n"
     ]
    },
    {
     "name": "stderr",
     "output_type": "stream",
     "text": [
      "100%|█████████████████████████████████████████████████████████████████████████████████| 192/192 [01:43<00:00,  1.85it/s]\n",
      "100%|███████████████████████████████████████████████████████████████████████████████████| 48/48 [00:10<00:00,  4.75it/s]\n"
     ]
    },
    {
     "name": "stdout",
     "output_type": "stream",
     "text": [
      "Epoch [39/100], Train Accuracy: 93.09%, Validation Accuracy: 55.94% \n",
      "Loss Train: 0.20227963539461294 | Val: 2.7330009241898856\n"
     ]
    },
    {
     "name": "stderr",
     "output_type": "stream",
     "text": [
      "100%|█████████████████████████████████████████████████████████████████████████████████| 192/192 [01:43<00:00,  1.86it/s]\n",
      "100%|███████████████████████████████████████████████████████████████████████████████████| 48/48 [00:10<00:00,  4.73it/s]\n"
     ]
    },
    {
     "name": "stdout",
     "output_type": "stream",
     "text": [
      "Saving Model ./sc_resnet50_voc2012.pth ...\n",
      "Epoch [40/100], Train Accuracy: 93.70%, Validation Accuracy: 56.40% \n",
      "Loss Train: 0.17927685484755784 | Val: 2.830841680367788\n"
     ]
    },
    {
     "name": "stderr",
     "output_type": "stream",
     "text": [
      "100%|█████████████████████████████████████████████████████████████████████████████████| 192/192 [01:43<00:00,  1.85it/s]\n",
      "100%|███████████████████████████████████████████████████████████████████████████████████| 48/48 [00:10<00:00,  4.74it/s]\n"
     ]
    },
    {
     "name": "stdout",
     "output_type": "stream",
     "text": [
      "Epoch [41/100], Train Accuracy: 93.93%, Validation Accuracy: 56.38% \n",
      "Loss Train: 0.17362382297869772 | Val: 2.7770121743281684\n"
     ]
    },
    {
     "name": "stderr",
     "output_type": "stream",
     "text": [
      "100%|█████████████████████████████████████████████████████████████████████████████████| 192/192 [01:43<00:00,  1.85it/s]\n",
      "100%|███████████████████████████████████████████████████████████████████████████████████| 48/48 [00:10<00:00,  4.68it/s]\n"
     ]
    },
    {
     "name": "stdout",
     "output_type": "stream",
     "text": [
      "Saving Model ./sc_resnet50_voc2012.pth ...\n",
      "Epoch [42/100], Train Accuracy: 94.54%, Validation Accuracy: 57.18% \n",
      "Loss Train: 0.1559745959045055 | Val: 2.726511230071386\n"
     ]
    },
    {
     "name": "stderr",
     "output_type": "stream",
     "text": [
      "100%|█████████████████████████████████████████████████████████████████████████████████| 192/192 [01:43<00:00,  1.86it/s]\n",
      "100%|███████████████████████████████████████████████████████████████████████████████████| 48/48 [00:10<00:00,  4.75it/s]\n"
     ]
    },
    {
     "name": "stdout",
     "output_type": "stream",
     "text": [
      "Epoch [43/100], Train Accuracy: 95.30%, Validation Accuracy: 56.71% \n",
      "Loss Train: 0.1322773149004206 | Val: 2.810569629073143\n"
     ]
    },
    {
     "name": "stderr",
     "output_type": "stream",
     "text": [
      "100%|█████████████████████████████████████████████████████████████████████████████████| 192/192 [01:43<00:00,  1.86it/s]\n",
      "100%|███████████████████████████████████████████████████████████████████████████████████| 48/48 [00:10<00:00,  4.68it/s]\n"
     ]
    },
    {
     "name": "stdout",
     "output_type": "stream",
     "text": [
      "Epoch [44/100], Train Accuracy: 96.00%, Validation Accuracy: 57.03% \n",
      "Loss Train: 0.11179614598707606 | Val: 2.9261364539464316\n"
     ]
    },
    {
     "name": "stderr",
     "output_type": "stream",
     "text": [
      "100%|█████████████████████████████████████████████████████████████████████████████████| 192/192 [01:43<00:00,  1.85it/s]\n",
      "100%|███████████████████████████████████████████████████████████████████████████████████| 48/48 [00:10<00:00,  4.65it/s]\n"
     ]
    },
    {
     "name": "stdout",
     "output_type": "stream",
     "text": [
      "Epoch [45/100], Train Accuracy: 96.23%, Validation Accuracy: 55.76% \n",
      "Loss Train: 0.10657602686357374 | Val: 3.064773445328077\n"
     ]
    },
    {
     "name": "stderr",
     "output_type": "stream",
     "text": [
      "100%|█████████████████████████████████████████████████████████████████████████████████| 192/192 [01:43<00:00,  1.86it/s]\n",
      "100%|███████████████████████████████████████████████████████████████████████████████████| 48/48 [00:10<00:00,  4.67it/s]\n"
     ]
    },
    {
     "name": "stdout",
     "output_type": "stream",
     "text": [
      "Epoch [46/100], Train Accuracy: 96.46%, Validation Accuracy: 56.22% \n",
      "Loss Train: 0.10275301443956171 | Val: 3.0724526892105737\n"
     ]
    },
    {
     "name": "stderr",
     "output_type": "stream",
     "text": [
      "100%|█████████████████████████████████████████████████████████████████████████████████| 192/192 [01:44<00:00,  1.84it/s]\n",
      "100%|███████████████████████████████████████████████████████████████████████████████████| 48/48 [00:10<00:00,  4.66it/s]\n"
     ]
    },
    {
     "name": "stdout",
     "output_type": "stream",
     "text": [
      "Epoch [47/100], Train Accuracy: 96.14%, Validation Accuracy: 56.15% \n",
      "Loss Train: 0.1073561081235918 | Val: 3.017816190918287\n"
     ]
    },
    {
     "name": "stderr",
     "output_type": "stream",
     "text": [
      "100%|█████████████████████████████████████████████████████████████████████████████████| 192/192 [01:43<00:00,  1.85it/s]\n",
      "100%|███████████████████████████████████████████████████████████████████████████████████| 48/48 [00:10<00:00,  4.65it/s]\n"
     ]
    },
    {
     "name": "stdout",
     "output_type": "stream",
     "text": [
      "Saving Model ./sc_resnet50_voc2012.pth ...\n",
      "Epoch [48/100], Train Accuracy: 96.72%, Validation Accuracy: 57.75% \n",
      "Loss Train: 0.09433006018904659 | Val: 2.8895459274450936\n"
     ]
    },
    {
     "name": "stderr",
     "output_type": "stream",
     "text": [
      "100%|█████████████████████████████████████████████████████████████████████████████████| 192/192 [01:43<00:00,  1.86it/s]\n",
      "100%|███████████████████████████████████████████████████████████████████████████████████| 48/48 [00:10<00:00,  4.68it/s]\n"
     ]
    },
    {
     "name": "stdout",
     "output_type": "stream",
     "text": [
      "Saving Model ./sc_resnet50_voc2012.pth ...\n",
      "Epoch [49/100], Train Accuracy: 97.70%, Validation Accuracy: 58.67% \n",
      "Loss Train: 0.06549438412184827 | Val: 2.841791937748591\n"
     ]
    },
    {
     "name": "stderr",
     "output_type": "stream",
     "text": [
      "100%|█████████████████████████████████████████████████████████████████████████████████| 192/192 [01:44<00:00,  1.84it/s]\n",
      "100%|███████████████████████████████████████████████████████████████████████████████████| 48/48 [00:10<00:00,  4.63it/s]\n"
     ]
    },
    {
     "name": "stdout",
     "output_type": "stream",
     "text": [
      "Epoch [50/100], Train Accuracy: 97.80%, Validation Accuracy: 52.95% \n",
      "Loss Train: 0.06353627120067055 | Val: 3.2360260089238486\n"
     ]
    },
    {
     "name": "stderr",
     "output_type": "stream",
     "text": [
      "100%|█████████████████████████████████████████████████████████████████████████████████| 192/192 [01:43<00:00,  1.85it/s]\n",
      "100%|███████████████████████████████████████████████████████████████████████████████████| 48/48 [00:10<00:00,  4.68it/s]\n"
     ]
    },
    {
     "name": "stdout",
     "output_type": "stream",
     "text": [
      "Epoch [51/100], Train Accuracy: 97.87%, Validation Accuracy: 57.52% \n",
      "Loss Train: 0.05829734318346406 | Val: 2.9891202648480735\n"
     ]
    },
    {
     "name": "stderr",
     "output_type": "stream",
     "text": [
      "100%|█████████████████████████████████████████████████████████████████████████████████| 192/192 [01:43<00:00,  1.85it/s]\n",
      "100%|███████████████████████████████████████████████████████████████████████████████████| 48/48 [00:10<00:00,  4.72it/s]\n"
     ]
    },
    {
     "name": "stdout",
     "output_type": "stream",
     "text": [
      "Epoch [52/100], Train Accuracy: 97.93%, Validation Accuracy: 58.08% \n",
      "Loss Train: 0.05997610301710665 | Val: 2.9901384909947715\n"
     ]
    },
    {
     "name": "stderr",
     "output_type": "stream",
     "text": [
      "100%|█████████████████████████████████████████████████████████████████████████████████| 192/192 [01:43<00:00,  1.86it/s]\n",
      "100%|███████████████████████████████████████████████████████████████████████████████████| 48/48 [00:10<00:00,  4.72it/s]\n"
     ]
    },
    {
     "name": "stdout",
     "output_type": "stream",
     "text": [
      "Epoch [53/100], Train Accuracy: 97.90%, Validation Accuracy: 57.65% \n",
      "Loss Train: 0.056200310190130644 | Val: 3.0301502098639808\n"
     ]
    },
    {
     "name": "stderr",
     "output_type": "stream",
     "text": [
      "100%|█████████████████████████████████████████████████████████████████████████████████| 192/192 [01:43<00:00,  1.86it/s]\n",
      "100%|███████████████████████████████████████████████████████████████████████████████████| 48/48 [00:10<00:00,  4.72it/s]\n"
     ]
    },
    {
     "name": "stdout",
     "output_type": "stream",
     "text": [
      "Saving Model ./sc_resnet50_voc2012.pth ...\n",
      "Epoch [54/100], Train Accuracy: 97.93%, Validation Accuracy: 58.80% \n",
      "Loss Train: 0.058406227316784985 | Val: 2.9997925708691278\n"
     ]
    },
    {
     "name": "stderr",
     "output_type": "stream",
     "text": [
      "100%|█████████████████████████████████████████████████████████████████████████████████| 192/192 [01:43<00:00,  1.85it/s]\n",
      "100%|███████████████████████████████████████████████████████████████████████████████████| 48/48 [00:10<00:00,  4.74it/s]\n"
     ]
    },
    {
     "name": "stdout",
     "output_type": "stream",
     "text": [
      "Epoch [55/100], Train Accuracy: 98.28%, Validation Accuracy: 57.25% \n",
      "Loss Train: 0.05250237465952523 | Val: 3.0743203113476434\n"
     ]
    },
    {
     "name": "stderr",
     "output_type": "stream",
     "text": [
      "100%|█████████████████████████████████████████████████████████████████████████████████| 192/192 [01:43<00:00,  1.86it/s]\n",
      "100%|███████████████████████████████████████████████████████████████████████████████████| 48/48 [00:10<00:00,  4.69it/s]\n"
     ]
    },
    {
     "name": "stdout",
     "output_type": "stream",
     "text": [
      "Epoch [56/100], Train Accuracy: 98.27%, Validation Accuracy: 57.29% \n",
      "Loss Train: 0.04864130786639483 | Val: 3.1401018599669137\n"
     ]
    },
    {
     "name": "stderr",
     "output_type": "stream",
     "text": [
      "100%|█████████████████████████████████████████████████████████████████████████████████| 192/192 [01:43<00:00,  1.85it/s]\n",
      "100%|███████████████████████████████████████████████████████████████████████████████████| 48/48 [00:10<00:00,  4.70it/s]\n"
     ]
    },
    {
     "name": "stdout",
     "output_type": "stream",
     "text": [
      "Epoch [57/100], Train Accuracy: 98.28%, Validation Accuracy: 57.65% \n",
      "Loss Train: 0.04793851948246205 | Val: 3.1342735638221106\n"
     ]
    },
    {
     "name": "stderr",
     "output_type": "stream",
     "text": [
      "100%|█████████████████████████████████████████████████████████████████████████████████| 192/192 [01:25<00:00,  2.24it/s]\n",
      "100%|███████████████████████████████████████████████████████████████████████████████████| 48/48 [00:06<00:00,  7.69it/s]\n"
     ]
    },
    {
     "name": "stdout",
     "output_type": "stream",
     "text": [
      "Saving Model ./sc_resnet50_voc2012.pth ...\n",
      "Epoch [58/100], Train Accuracy: 98.38%, Validation Accuracy: 59.66% \n",
      "Loss Train: 0.04729159266571514 | Val: 3.078036924203237\n"
     ]
    },
    {
     "name": "stderr",
     "output_type": "stream",
     "text": [
      "100%|█████████████████████████████████████████████████████████████████████████████████| 192/192 [00:55<00:00,  3.46it/s]\n",
      "100%|███████████████████████████████████████████████████████████████████████████████████| 48/48 [00:06<00:00,  7.69it/s]\n"
     ]
    },
    {
     "name": "stdout",
     "output_type": "stream",
     "text": [
      "Epoch [59/100], Train Accuracy: 98.58%, Validation Accuracy: 58.67% \n",
      "Loss Train: 0.04170989355285807 | Val: 3.0627306550741196\n"
     ]
    },
    {
     "name": "stderr",
     "output_type": "stream",
     "text": [
      "100%|█████████████████████████████████████████████████████████████████████████████████| 192/192 [00:55<00:00,  3.47it/s]\n",
      "100%|███████████████████████████████████████████████████████████████████████████████████| 48/48 [00:06<00:00,  7.68it/s]\n"
     ]
    },
    {
     "name": "stdout",
     "output_type": "stream",
     "text": [
      "Epoch [60/100], Train Accuracy: 98.94%, Validation Accuracy: 58.72% \n",
      "Loss Train: 0.030838490116972633 | Val: 3.026330123345057\n"
     ]
    },
    {
     "name": "stderr",
     "output_type": "stream",
     "text": [
      "100%|█████████████████████████████████████████████████████████████████████████████████| 192/192 [00:55<00:00,  3.47it/s]\n",
      "100%|███████████████████████████████████████████████████████████████████████████████████| 48/48 [00:06<00:00,  7.62it/s]\n"
     ]
    },
    {
     "name": "stdout",
     "output_type": "stream",
     "text": [
      "Epoch [61/100], Train Accuracy: 98.90%, Validation Accuracy: 58.34% \n",
      "Loss Train: 0.034306346453377046 | Val: 3.08256987730662\n"
     ]
    },
    {
     "name": "stderr",
     "output_type": "stream",
     "text": [
      "100%|█████████████████████████████████████████████████████████████████████████████████| 192/192 [00:55<00:00,  3.47it/s]\n",
      "100%|███████████████████████████████████████████████████████████████████████████████████| 48/48 [00:06<00:00,  7.62it/s]\n"
     ]
    },
    {
     "name": "stdout",
     "output_type": "stream",
     "text": [
      "Epoch [62/100], Train Accuracy: 98.80%, Validation Accuracy: 59.29% \n",
      "Loss Train: 0.03569242418598151 | Val: 2.9900392641623816\n"
     ]
    },
    {
     "name": "stderr",
     "output_type": "stream",
     "text": [
      "100%|█████████████████████████████████████████████████████████████████████████████████| 192/192 [00:55<00:00,  3.47it/s]\n",
      "100%|███████████████████████████████████████████████████████████████████████████████████| 48/48 [00:06<00:00,  7.65it/s]\n"
     ]
    },
    {
     "name": "stdout",
     "output_type": "stream",
     "text": [
      "Epoch [63/100], Train Accuracy: 98.68%, Validation Accuracy: 58.27% \n",
      "Loss Train: 0.04006211993691977 | Val: 3.0659173727035522\n"
     ]
    },
    {
     "name": "stderr",
     "output_type": "stream",
     "text": [
      "100%|█████████████████████████████████████████████████████████████████████████████████| 192/192 [00:55<00:00,  3.47it/s]\n",
      "100%|███████████████████████████████████████████████████████████████████████████████████| 48/48 [00:06<00:00,  7.66it/s]\n"
     ]
    },
    {
     "name": "stdout",
     "output_type": "stream",
     "text": [
      "Epoch [64/100], Train Accuracy: 98.82%, Validation Accuracy: 59.24% \n",
      "Loss Train: 0.03308224871580023 | Val: 3.0033793250719705\n"
     ]
    },
    {
     "name": "stderr",
     "output_type": "stream",
     "text": [
      "100%|█████████████████████████████████████████████████████████████████████████████████| 192/192 [00:55<00:00,  3.47it/s]\n",
      "100%|███████████████████████████████████████████████████████████████████████████████████| 48/48 [00:06<00:00,  7.73it/s]\n"
     ]
    },
    {
     "name": "stdout",
     "output_type": "stream",
     "text": [
      "Saving Model ./sc_resnet50_voc2012.pth ...\n",
      "Epoch [65/100], Train Accuracy: 99.28%, Validation Accuracy: 60.43% \n",
      "Loss Train: 0.020489067832386354 | Val: 2.9464871287345886\n"
     ]
    },
    {
     "name": "stderr",
     "output_type": "stream",
     "text": [
      "100%|█████████████████████████████████████████████████████████████████████████████████| 192/192 [00:55<00:00,  3.48it/s]\n",
      "100%|███████████████████████████████████████████████████████████████████████████████████| 48/48 [00:06<00:00,  7.68it/s]\n"
     ]
    },
    {
     "name": "stdout",
     "output_type": "stream",
     "text": [
      "Epoch [66/100], Train Accuracy: 99.48%, Validation Accuracy: 59.60% \n",
      "Loss Train: 0.017192476697042974 | Val: 3.1221535007158914\n"
     ]
    },
    {
     "name": "stderr",
     "output_type": "stream",
     "text": [
      "100%|█████████████████████████████████████████████████████████████████████████████████| 192/192 [00:55<00:00,  3.47it/s]\n",
      "100%|███████████████████████████████████████████████████████████████████████████████████| 48/48 [00:06<00:00,  7.70it/s]\n"
     ]
    },
    {
     "name": "stdout",
     "output_type": "stream",
     "text": [
      "Epoch [67/100], Train Accuracy: 99.42%, Validation Accuracy: 60.19% \n",
      "Loss Train: 0.018180412178480765 | Val: 3.0232912550369897\n"
     ]
    },
    {
     "name": "stderr",
     "output_type": "stream",
     "text": [
      "100%|█████████████████████████████████████████████████████████████████████████████████| 192/192 [00:55<00:00,  3.47it/s]\n",
      "100%|███████████████████████████████████████████████████████████████████████████████████| 48/48 [00:06<00:00,  7.57it/s]\n"
     ]
    },
    {
     "name": "stdout",
     "output_type": "stream",
     "text": [
      "Epoch [68/100], Train Accuracy: 99.43%, Validation Accuracy: 59.78% \n",
      "Loss Train: 0.018783370180851005 | Val: 3.050088788072268\n"
     ]
    },
    {
     "name": "stderr",
     "output_type": "stream",
     "text": [
      "100%|█████████████████████████████████████████████████████████████████████████████████| 192/192 [00:55<00:00,  3.47it/s]\n",
      "100%|███████████████████████████████████████████████████████████████████████████████████| 48/48 [00:06<00:00,  7.70it/s]\n"
     ]
    },
    {
     "name": "stdout",
     "output_type": "stream",
     "text": [
      "Epoch [69/100], Train Accuracy: 99.32%, Validation Accuracy: 60.07% \n",
      "Loss Train: 0.018749940957301686 | Val: 3.088701367378235\n"
     ]
    },
    {
     "name": "stderr",
     "output_type": "stream",
     "text": [
      "100%|█████████████████████████████████████████████████████████████████████████████████| 192/192 [00:55<00:00,  3.48it/s]\n",
      "100%|███████████████████████████████████████████████████████████████████████████████████| 48/48 [00:06<00:00,  7.64it/s]\n"
     ]
    },
    {
     "name": "stdout",
     "output_type": "stream",
     "text": [
      "Epoch [70/100], Train Accuracy: 99.28%, Validation Accuracy: 59.58% \n",
      "Loss Train: 0.022489750694755156 | Val: 3.1031783620516458\n"
     ]
    },
    {
     "name": "stderr",
     "output_type": "stream",
     "text": [
      "100%|█████████████████████████████████████████████████████████████████████████████████| 192/192 [00:55<00:00,  3.47it/s]\n",
      "100%|███████████████████████████████████████████████████████████████████████████████████| 48/48 [00:06<00:00,  7.60it/s]\n"
     ]
    },
    {
     "name": "stdout",
     "output_type": "stream",
     "text": [
      "Epoch [71/100], Train Accuracy: 99.33%, Validation Accuracy: 60.09% \n",
      "Loss Train: 0.016957092580317596 | Val: 3.0159334590037665\n"
     ]
    },
    {
     "name": "stderr",
     "output_type": "stream",
     "text": [
      "100%|█████████████████████████████████████████████████████████████████████████████████| 192/192 [00:55<00:00,  3.47it/s]\n",
      "100%|███████████████████████████████████████████████████████████████████████████████████| 48/48 [00:06<00:00,  7.70it/s]\n"
     ]
    },
    {
     "name": "stdout",
     "output_type": "stream",
     "text": [
      "Saving Model ./sc_resnet50_voc2012.pth ...\n",
      "Epoch [72/100], Train Accuracy: 99.62%, Validation Accuracy: 60.66% \n",
      "Loss Train: 0.012785665246459152 | Val: 3.0486348817745843\n"
     ]
    },
    {
     "name": "stderr",
     "output_type": "stream",
     "text": [
      "100%|█████████████████████████████████████████████████████████████████████████████████| 192/192 [00:55<00:00,  3.47it/s]\n",
      "100%|███████████████████████████████████████████████████████████████████████████████████| 48/48 [00:06<00:00,  7.63it/s]\n"
     ]
    },
    {
     "name": "stdout",
     "output_type": "stream",
     "text": [
      "Epoch [73/100], Train Accuracy: 99.63%, Validation Accuracy: 60.61% \n",
      "Loss Train: 0.011762259092089758 | Val: 2.99570062259833\n"
     ]
    },
    {
     "name": "stderr",
     "output_type": "stream",
     "text": [
      "100%|█████████████████████████████████████████████████████████████████████████████████| 192/192 [00:55<00:00,  3.46it/s]\n",
      "100%|███████████████████████████████████████████████████████████████████████████████████| 48/48 [00:06<00:00,  7.64it/s]\n"
     ]
    },
    {
     "name": "stdout",
     "output_type": "stream",
     "text": [
      "Epoch [74/100], Train Accuracy: 99.53%, Validation Accuracy: 60.64% \n",
      "Loss Train: 0.014314492798803258 | Val: 3.0387210001548133\n"
     ]
    },
    {
     "name": "stderr",
     "output_type": "stream",
     "text": [
      "100%|█████████████████████████████████████████████████████████████████████████████████| 192/192 [00:55<00:00,  3.47it/s]\n",
      "100%|███████████████████████████████████████████████████████████████████████████████████| 48/48 [00:06<00:00,  7.65it/s]\n"
     ]
    },
    {
     "name": "stdout",
     "output_type": "stream",
     "text": [
      "Epoch [75/100], Train Accuracy: 99.67%, Validation Accuracy: 60.63% \n",
      "Loss Train: 0.011844924760225695 | Val: 3.0688009709119797\n"
     ]
    },
    {
     "name": "stderr",
     "output_type": "stream",
     "text": [
      "100%|█████████████████████████████████████████████████████████████████████████████████| 192/192 [00:55<00:00,  3.48it/s]\n",
      "100%|███████████████████████████████████████████████████████████████████████████████████| 48/48 [00:06<00:00,  7.51it/s]\n"
     ]
    },
    {
     "name": "stdout",
     "output_type": "stream",
     "text": [
      "Epoch [76/100], Train Accuracy: 99.68%, Validation Accuracy: 59.43% \n",
      "Loss Train: 0.010567312274967358 | Val: 3.241933877269427\n"
     ]
    },
    {
     "name": "stderr",
     "output_type": "stream",
     "text": [
      "100%|█████████████████████████████████████████████████████████████████████████████████| 192/192 [00:55<00:00,  3.46it/s]\n",
      "100%|███████████████████████████████████████████████████████████████████████████████████| 48/48 [00:06<00:00,  7.65it/s]\n"
     ]
    },
    {
     "name": "stdout",
     "output_type": "stream",
     "text": [
      "Saving Model ./sc_resnet50_voc2012.pth ...\n",
      "Epoch [77/100], Train Accuracy: 99.57%, Validation Accuracy: 60.95% \n",
      "Loss Train: 0.012015978325507604 | Val: 3.0955678820610046\n"
     ]
    },
    {
     "name": "stderr",
     "output_type": "stream",
     "text": [
      "100%|█████████████████████████████████████████████████████████████████████████████████| 192/192 [00:55<00:00,  3.47it/s]\n",
      "100%|███████████████████████████████████████████████████████████████████████████████████| 48/48 [00:06<00:00,  7.68it/s]\n"
     ]
    },
    {
     "name": "stdout",
     "output_type": "stream",
     "text": [
      "Saving Model ./sc_resnet50_voc2012.pth ...\n",
      "Epoch [78/100], Train Accuracy: 99.74%, Validation Accuracy: 61.31% \n",
      "Loss Train: 0.008574648165449616 | Val: 3.044692491491636\n"
     ]
    },
    {
     "name": "stderr",
     "output_type": "stream",
     "text": [
      "100%|█████████████████████████████████████████████████████████████████████████████████| 192/192 [00:55<00:00,  3.47it/s]\n",
      "100%|███████████████████████████████████████████████████████████████████████████████████| 48/48 [00:06<00:00,  7.70it/s]\n"
     ]
    },
    {
     "name": "stdout",
     "output_type": "stream",
     "text": [
      "Epoch [79/100], Train Accuracy: 99.78%, Validation Accuracy: 61.08% \n",
      "Loss Train: 0.0069401754365874995 | Val: 3.0574088792006173\n"
     ]
    },
    {
     "name": "stderr",
     "output_type": "stream",
     "text": [
      "100%|█████████████████████████████████████████████████████████████████████████████████| 192/192 [00:55<00:00,  3.48it/s]\n",
      "100%|███████████████████████████████████████████████████████████████████████████████████| 48/48 [00:06<00:00,  7.63it/s]\n"
     ]
    },
    {
     "name": "stdout",
     "output_type": "stream",
     "text": [
      "Epoch [80/100], Train Accuracy: 99.81%, Validation Accuracy: 60.97% \n",
      "Loss Train: 0.007357825417784625 | Val: 3.0965926547845206\n"
     ]
    },
    {
     "name": "stderr",
     "output_type": "stream",
     "text": [
      "100%|█████████████████████████████████████████████████████████████████████████████████| 192/192 [00:55<00:00,  3.48it/s]\n",
      "100%|███████████████████████████████████████████████████████████████████████████████████| 48/48 [00:06<00:00,  7.65it/s]\n"
     ]
    },
    {
     "name": "stdout",
     "output_type": "stream",
     "text": [
      "Epoch [81/100], Train Accuracy: 99.82%, Validation Accuracy: 60.97% \n",
      "Loss Train: 0.006698100027582162 | Val: 3.066307778159777\n"
     ]
    },
    {
     "name": "stderr",
     "output_type": "stream",
     "text": [
      "100%|█████████████████████████████████████████████████████████████████████████████████| 192/192 [00:55<00:00,  3.48it/s]\n",
      "100%|███████████████████████████████████████████████████████████████████████████████████| 48/48 [00:06<00:00,  7.60it/s]\n"
     ]
    },
    {
     "name": "stdout",
     "output_type": "stream",
     "text": [
      "Saving Model ./sc_resnet50_voc2012.pth ...\n",
      "Epoch [82/100], Train Accuracy: 99.84%, Validation Accuracy: 61.43% \n",
      "Loss Train: 0.006244225901355094 | Val: 3.067726656794548\n"
     ]
    },
    {
     "name": "stderr",
     "output_type": "stream",
     "text": [
      "100%|█████████████████████████████████████████████████████████████████████████████████| 192/192 [00:55<00:00,  3.48it/s]\n",
      "100%|███████████████████████████████████████████████████████████████████████████████████| 48/48 [00:06<00:00,  7.61it/s]\n"
     ]
    },
    {
     "name": "stdout",
     "output_type": "stream",
     "text": [
      "Epoch [83/100], Train Accuracy: 99.84%, Validation Accuracy: 60.69% \n",
      "Loss Train: 0.005799057027312908 | Val: 3.1636762022972107\n"
     ]
    },
    {
     "name": "stderr",
     "output_type": "stream",
     "text": [
      "100%|█████████████████████████████████████████████████████████████████████████████████| 192/192 [00:55<00:00,  3.47it/s]\n",
      "100%|███████████████████████████████████████████████████████████████████████████████████| 48/48 [00:06<00:00,  7.70it/s]\n"
     ]
    },
    {
     "name": "stdout",
     "output_type": "stream",
     "text": [
      "Epoch [84/100], Train Accuracy: 99.82%, Validation Accuracy: 61.36% \n",
      "Loss Train: 0.006201517591459075 | Val: 3.0288370152314505\n"
     ]
    },
    {
     "name": "stderr",
     "output_type": "stream",
     "text": [
      "100%|█████████████████████████████████████████████████████████████████████████████████| 192/192 [00:55<00:00,  3.47it/s]\n",
      "100%|███████████████████████████████████████████████████████████████████████████████████| 48/48 [00:06<00:00,  7.64it/s]\n"
     ]
    },
    {
     "name": "stdout",
     "output_type": "stream",
     "text": [
      "Saving Model ./sc_resnet50_voc2012.pth ...\n",
      "Epoch [85/100], Train Accuracy: 99.92%, Validation Accuracy: 61.74% \n",
      "Loss Train: 0.003498704103852409 | Val: 3.0407328655322394\n"
     ]
    },
    {
     "name": "stderr",
     "output_type": "stream",
     "text": [
      "100%|█████████████████████████████████████████████████████████████████████████████████| 192/192 [00:55<00:00,  3.48it/s]\n",
      "100%|███████████████████████████████████████████████████████████████████████████████████| 48/48 [00:06<00:00,  7.68it/s]\n"
     ]
    },
    {
     "name": "stdout",
     "output_type": "stream",
     "text": [
      "Epoch [86/100], Train Accuracy: 99.89%, Validation Accuracy: 61.61% \n",
      "Loss Train: 0.005189017620220208 | Val: 3.055301859974861\n"
     ]
    },
    {
     "name": "stderr",
     "output_type": "stream",
     "text": [
      "100%|█████████████████████████████████████████████████████████████████████████████████| 192/192 [00:55<00:00,  3.48it/s]\n",
      "100%|███████████████████████████████████████████████████████████████████████████████████| 48/48 [00:06<00:00,  7.62it/s]\n"
     ]
    },
    {
     "name": "stdout",
     "output_type": "stream",
     "text": [
      "Saving Model ./sc_resnet50_voc2012.pth ...\n",
      "Epoch [87/100], Train Accuracy: 99.93%, Validation Accuracy: 62.24% \n",
      "Loss Train: 0.003250941318886665 | Val: 3.0063626219828925\n"
     ]
    },
    {
     "name": "stderr",
     "output_type": "stream",
     "text": [
      "100%|█████████████████████████████████████████████████████████████████████████████████| 192/192 [00:55<00:00,  3.47it/s]\n",
      "100%|███████████████████████████████████████████████████████████████████████████████████| 48/48 [00:06<00:00,  7.66it/s]\n"
     ]
    },
    {
     "name": "stdout",
     "output_type": "stream",
     "text": [
      "Epoch [88/100], Train Accuracy: 99.96%, Validation Accuracy: 62.18% \n",
      "Loss Train: 0.0023599333890918692 | Val: 2.9735630601644516\n"
     ]
    },
    {
     "name": "stderr",
     "output_type": "stream",
     "text": [
      "100%|█████████████████████████████████████████████████████████████████████████████████| 192/192 [00:55<00:00,  3.47it/s]\n",
      "100%|███████████████████████████████████████████████████████████████████████████████████| 48/48 [00:06<00:00,  7.69it/s]\n"
     ]
    },
    {
     "name": "stdout",
     "output_type": "stream",
     "text": [
      "Saving Model ./sc_resnet50_voc2012.pth ...\n",
      "Epoch [89/100], Train Accuracy: 99.98%, Validation Accuracy: 62.67% \n",
      "Loss Train: 0.0019394931669012294 | Val: 3.0009008000294366\n"
     ]
    },
    {
     "name": "stderr",
     "output_type": "stream",
     "text": [
      "100%|█████████████████████████████████████████████████████████████████████████████████| 192/192 [00:55<00:00,  3.48it/s]\n",
      "100%|███████████████████████████████████████████████████████████████████████████████████| 48/48 [00:06<00:00,  7.69it/s]\n"
     ]
    },
    {
     "name": "stdout",
     "output_type": "stream",
     "text": [
      "Epoch [90/100], Train Accuracy: 99.98%, Validation Accuracy: 62.59% \n",
      "Loss Train: 0.0016254865317932854 | Val: 2.9954443126916885\n"
     ]
    },
    {
     "name": "stderr",
     "output_type": "stream",
     "text": [
      "100%|█████████████████████████████████████████████████████████████████████████████████| 192/192 [00:55<00:00,  3.46it/s]\n",
      "100%|███████████████████████████████████████████████████████████████████████████████████| 48/48 [00:06<00:00,  7.62it/s]\n"
     ]
    },
    {
     "name": "stdout",
     "output_type": "stream",
     "text": [
      "Epoch [91/100], Train Accuracy: 99.99%, Validation Accuracy: 62.51% \n",
      "Loss Train: 0.0013472489010079396 | Val: 2.949051241079966\n"
     ]
    },
    {
     "name": "stderr",
     "output_type": "stream",
     "text": [
      "100%|█████████████████████████████████████████████████████████████████████████████████| 192/192 [00:55<00:00,  3.47it/s]\n",
      "100%|███████████████████████████████████████████████████████████████████████████████████| 48/48 [00:06<00:00,  7.70it/s]\n"
     ]
    },
    {
     "name": "stdout",
     "output_type": "stream",
     "text": [
      "Saving Model ./sc_resnet50_voc2012.pth ...\n",
      "Epoch [92/100], Train Accuracy: 99.97%, Validation Accuracy: 62.95% \n",
      "Loss Train: 0.001511849287453515 | Val: 2.97759618361791\n"
     ]
    },
    {
     "name": "stderr",
     "output_type": "stream",
     "text": [
      "100%|█████████████████████████████████████████████████████████████████████████████████| 192/192 [00:55<00:00,  3.48it/s]\n",
      "100%|███████████████████████████████████████████████████████████████████████████████████| 48/48 [00:06<00:00,  7.70it/s]\n"
     ]
    },
    {
     "name": "stdout",
     "output_type": "stream",
     "text": [
      "Epoch [93/100], Train Accuracy: 99.98%, Validation Accuracy: 62.72% \n",
      "Loss Train: 0.0014771845217183 | Val: 2.9739930033683777\n"
     ]
    },
    {
     "name": "stderr",
     "output_type": "stream",
     "text": [
      "100%|█████████████████████████████████████████████████████████████████████████████████| 192/192 [00:55<00:00,  3.47it/s]\n",
      "100%|███████████████████████████████████████████████████████████████████████████████████| 48/48 [00:06<00:00,  7.62it/s]\n"
     ]
    },
    {
     "name": "stdout",
     "output_type": "stream",
     "text": [
      "Saving Model ./sc_resnet50_voc2012.pth ...\n",
      "Epoch [94/100], Train Accuracy: 99.98%, Validation Accuracy: 63.06% \n",
      "Loss Train: 0.0012202307918111426 | Val: 2.967843472957611\n"
     ]
    },
    {
     "name": "stderr",
     "output_type": "stream",
     "text": [
      "100%|█████████████████████████████████████████████████████████████████████████████████| 192/192 [00:55<00:00,  3.48it/s]\n",
      "100%|███████████████████████████████████████████████████████████████████████████████████| 48/48 [00:06<00:00,  7.66it/s]\n"
     ]
    },
    {
     "name": "stdout",
     "output_type": "stream",
     "text": [
      "Saving Model ./sc_resnet50_voc2012.pth ...\n",
      "Epoch [95/100], Train Accuracy: 100.00%, Validation Accuracy: 63.42% \n",
      "Loss Train: 0.0009353866695012888 | Val: 2.9497712006171546\n"
     ]
    },
    {
     "name": "stderr",
     "output_type": "stream",
     "text": [
      "100%|█████████████████████████████████████████████████████████████████████████████████| 192/192 [00:55<00:00,  3.47it/s]\n",
      "100%|███████████████████████████████████████████████████████████████████████████████████| 48/48 [00:06<00:00,  7.66it/s]\n"
     ]
    },
    {
     "name": "stdout",
     "output_type": "stream",
     "text": [
      "Epoch [96/100], Train Accuracy: 99.98%, Validation Accuracy: 63.14% \n",
      "Loss Train: 0.0011699952329612036 | Val: 2.9607232560714087\n"
     ]
    },
    {
     "name": "stderr",
     "output_type": "stream",
     "text": [
      "100%|█████████████████████████████████████████████████████████████████████████████████| 192/192 [00:55<00:00,  3.47it/s]\n",
      "100%|███████████████████████████████████████████████████████████████████████████████████| 48/48 [00:06<00:00,  7.67it/s]\n"
     ]
    },
    {
     "name": "stdout",
     "output_type": "stream",
     "text": [
      "Epoch [97/100], Train Accuracy: 99.98%, Validation Accuracy: 63.16% \n",
      "Loss Train: 0.001000696947698998 | Val: 2.963059435288111\n"
     ]
    },
    {
     "name": "stderr",
     "output_type": "stream",
     "text": [
      "100%|█████████████████████████████████████████████████████████████████████████████████| 192/192 [00:55<00:00,  3.47it/s]\n",
      "100%|███████████████████████████████████████████████████████████████████████████████████| 48/48 [00:06<00:00,  7.60it/s]\n"
     ]
    },
    {
     "name": "stdout",
     "output_type": "stream",
     "text": [
      "Epoch [98/100], Train Accuracy: 100.00%, Validation Accuracy: 63.29% \n",
      "Loss Train: 0.0008715434629872713 | Val: 2.9786045302947364\n"
     ]
    },
    {
     "name": "stderr",
     "output_type": "stream",
     "text": [
      "100%|█████████████████████████████████████████████████████████████████████████████████| 192/192 [00:55<00:00,  3.47it/s]\n",
      "100%|███████████████████████████████████████████████████████████████████████████████████| 48/48 [00:06<00:00,  7.61it/s]\n"
     ]
    },
    {
     "name": "stdout",
     "output_type": "stream",
     "text": [
      "Epoch [99/100], Train Accuracy: 99.98%, Validation Accuracy: 63.21% \n",
      "Loss Train: 0.0009860162598063955 | Val: 2.9773538758357367\n"
     ]
    },
    {
     "name": "stderr",
     "output_type": "stream",
     "text": [
      "100%|█████████████████████████████████████████████████████████████████████████████████| 192/192 [00:55<00:00,  3.47it/s]\n",
      "100%|███████████████████████████████████████████████████████████████████████████████████| 48/48 [00:06<00:00,  7.65it/s]"
     ]
    },
    {
     "name": "stdout",
     "output_type": "stream",
     "text": [
      "Epoch [100/100], Train Accuracy: 100.00%, Validation Accuracy: 62.96% \n",
      "Loss Train: 0.0006446068786090109 | Val: 2.958790351947149\n",
      "Training complete.\n"
     ]
    },
    {
     "name": "stderr",
     "output_type": "stream",
     "text": [
      "\n"
     ]
    }
   ],
   "source": [
    "criterion = nn.CrossEntropyLoss(weight=weights)\n",
    "optimizer = torch.optim.AdamW(model.parameters(), lr=1e-3, betas=(0.9, 0.999), eps=1e-08, weight_decay=1e-5)\n",
    "# optimizer = torch.optim.SGD(model.parameters(), lr=1e-3, momentum=0.9, weight_decay=1e-5)\n",
    "# lr_scheduler = torch.optim.lr_scheduler.ReduceLROnPlateau(optimizer, factor=0.5, patience=5, threshold=1e-3,\n",
    "#                                                            min_lr=1e-8, eps=1e-08, verbose=True)\n",
    "lr_scheduler = get_linear_schedule_with_warmup(optimizer, \n",
    "                                               int(warmup_frac*total_iterations), \n",
    "                                               total_iterations\n",
    "                                               # total_iterations-int(warmup_frac*total_iterations)\n",
    "                                              )\n",
    "\n",
    "# Training and Validation Loop\n",
    "val_acc = 0\n",
    "for epoch in range(num_epochs):\n",
    "    model.train()\n",
    "    correct_train = 0\n",
    "    total_train = 0\n",
    "    train_loss = 0\n",
    "    for i, (images, labels) in enumerate(tqdm(train_loader)):\n",
    "        optimizer.zero_grad()\n",
    "        images, labels = images.to(device), labels.to(device)\n",
    "        outputs = model(images)\n",
    "        loss = criterion(outputs, labels)\n",
    "        train_loss += loss.cpu().item()\n",
    "        loss.backward()\n",
    "        torch.nn.utils.clip_grad_norm_(model.parameters(), 1.0)\n",
    "        optimizer.step()\n",
    "        predicted = torch.argmax(torch.softmax(outputs.data, dim=1), dim=1)\n",
    "        total_train += labels.size(0)\n",
    "        correct_train += (predicted == labels).sum().item()\n",
    "        lr_scheduler.step()\n",
    "        \n",
    "    model.eval()\n",
    "    correct_val = 0\n",
    "    total_val = 0\n",
    "    val_loss = 0\n",
    "    with torch.no_grad():\n",
    "        for i, (images, labels) in enumerate(tqdm(val_loader)):\n",
    "            images, labels = images.to(device), labels.to(device)\n",
    "            outputs = model(images)\n",
    "            loss = criterion(outputs, labels)\n",
    "            predicted = torch.argmax(torch.softmax(outputs.data, dim=1), dim=1)\n",
    "            total_val += labels.size(0)\n",
    "            correct_val += (predicted == labels).sum().item()\n",
    "            val_loss += loss.cpu().item()\n",
    "\n",
    "    val_loss /= len(val_loader)\n",
    "    train_loss /= len(train_loader)\n",
    "    # lr_scheduler.step(val_loss)\n",
    "    if val_acc<=(correct_val / total_val):\n",
    "        val_acc = correct_val / total_val\n",
    "        print('Saving Model {} ...'.format('./sc_resnet50_voc2012.pth'))\n",
    "        save_model(model, optimizer, lr_scheduler, epoch, './sc_resnet50_voc2012.pth')\n",
    "    print(f\"Epoch [{epoch + 1}/{num_epochs}], \"\n",
    "          f\"Train Accuracy: {(correct_train / total_train) * 100:.2f}%, \"\n",
    "          f\"Validation Accuracy: {(correct_val / total_val) * 100:.2f}% \"\n",
    "          f\"\\nLoss Train: {train_loss} | Val: {val_loss}\")\n",
    "\n",
    "print(\"Training complete.\")"
   ]
  },
  {
   "cell_type": "code",
   "execution_count": 15,
   "metadata": {},
   "outputs": [
    {
     "name": "stdout",
     "output_type": "stream",
     "text": [
      "Best Validation Accuracy: 63.42%\n"
     ]
    }
   ],
   "source": [
    "print('Best Validation Accuracy: {:.2f}%'.format(val_acc*100))"
   ]
  },
  {
   "cell_type": "code",
   "execution_count": null,
   "metadata": {},
   "outputs": [],
   "source": []
  }
 ],
 "metadata": {
  "accelerator": "GPU",
  "colab": {
   "gpuType": "T4",
   "provenance": []
  },
  "kernelspec": {
   "display_name": "Python 3 (ipykernel)",
   "language": "python",
   "name": "python3"
  },
  "language_info": {
   "codemirror_mode": {
    "name": "ipython",
    "version": 3
   },
   "file_extension": ".py",
   "mimetype": "text/x-python",
   "name": "python",
   "nbconvert_exporter": "python",
   "pygments_lexer": "ipython3",
   "version": "3.11.5"
  }
 },
 "nbformat": 4,
 "nbformat_minor": 4
}
